{
 "cells": [
  {
   "cell_type": "markdown",
   "metadata": {},
   "source": [
    "# The battle of neighborhoods"
   ]
  },
  {
   "cell_type": "markdown",
   "metadata": {},
   "source": [
    "By: Muhammad Hamza"
   ]
  },
  {
   "cell_type": "markdown",
   "metadata": {},
   "source": [
    "## Intro"
   ]
  },
  {
   "cell_type": "markdown",
   "metadata": {},
   "source": [
    "### The problem"
   ]
  },
  {
   "cell_type": "markdown",
   "metadata": {},
   "source": [
    "With a population exceeding 150 Million, Lahore is undoubtedly one of the largest cities of Pakistan, the 5th largest country by population. However, Lahore has had a history of being unable to provide adequate medical care to its citizens, especially in the relatively underdeveloped areas. "
   ]
  },
  {
   "cell_type": "markdown",
   "metadata": {},
   "source": [
    "As the government has a low amount of resources, there is only a small number of hospitals that can be built to cover a number of areas. Some areas are fully covered while some areas are not covered at all. The number of hospitals to be built should cover areas with the lowest amount of healthcare facilities in their vicinity."
   ]
  },
  {
   "cell_type": "markdown",
   "metadata": {},
   "source": [
    "### Solution"
   ]
  },
  {
   "cell_type": "markdown",
   "metadata": {},
   "source": [
    "In order to cater the current problem, I plan to create a map that would display the neighborhoods and the number of hospitals near them. These hospitals will be judged on the number of areas they cater, which will in turn identify the areas to which hospitals are very far. These identified points will then be used to analyze and determine the optimal points for building a new hospital."
   ]
  },
  {
   "cell_type": "markdown",
   "metadata": {},
   "source": [
    "## Data"
   ]
  },
  {
   "cell_type": "markdown",
   "metadata": {},
   "source": [
    "### Collection Sources"
   ]
  },
  {
   "cell_type": "markdown",
   "metadata": {},
   "source": [
    "Data will be collected from the following sources:\n",
    "- [List of towns in Lahore](https://en.wikipedia.org/wiki/List_of_towns_in_Lahore)\n",
    "- Geocode information from Geopy\n",
    "- Hospital Data in Lahore from Foursquare"
   ]
  },
  {
   "cell_type": "markdown",
   "metadata": {},
   "source": [
    "### Data Type"
   ]
  },
  {
   "cell_type": "markdown",
   "metadata": {},
   "source": [
    "The data collected includes:\n",
    "- list of neighborhoods in lahore\n",
    "- list of hospitals in lahore with their neighborhoods\n",
    "- Geo location data of hospitals and neighborhoods"
   ]
  },
  {
   "cell_type": "code",
   "execution_count": null,
   "metadata": {},
   "outputs": [],
   "source": []
  }
 ],
 "metadata": {
  "kernelspec": {
   "display_name": "Python",
   "language": "python",
   "name": "conda-env-python-py"
  },
  "language_info": {
   "codemirror_mode": {
    "name": "ipython",
    "version": 3
   },
   "file_extension": ".py",
   "mimetype": "text/x-python",
   "name": "python",
   "nbconvert_exporter": "python",
   "pygments_lexer": "ipython3",
   "version": "3.6.7"
  }
 },
 "nbformat": 4,
 "nbformat_minor": 4
}
